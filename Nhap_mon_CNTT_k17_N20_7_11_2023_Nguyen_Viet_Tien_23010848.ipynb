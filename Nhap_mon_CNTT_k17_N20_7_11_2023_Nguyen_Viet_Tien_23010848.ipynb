{
  "nbformat": 4,
  "nbformat_minor": 0,
  "metadata": {
    "colab": {
      "provenance": []
    },
    "kernelspec": {
      "name": "python3",
      "display_name": "Python 3"
    },
    "language_info": {
      "name": "python"
    }
  },
  "cells": [
    {
      "cell_type": "markdown",
      "source": [
        "Vòng lặp while\n"
      ],
      "metadata": {
        "id": "EYspeP7a55RL"
      }
    },
    {
      "cell_type": "code",
      "source": [
        "n=0\n",
        "while (n**4+n**3+n**2+1)<1000:\n",
        "  n+=1\n",
        "  print(n-1)"
      ],
      "metadata": {
        "colab": {
          "base_uri": "https://localhost:8080/"
        },
        "id": "NtkaCFTd7O7j",
        "outputId": "7f8486a9-6e42-48d4-ebbf-a6376764ee45"
      },
      "execution_count": null,
      "outputs": [
        {
          "output_type": "stream",
          "name": "stdout",
          "text": [
            "0\n",
            "1\n",
            "2\n",
            "3\n",
            "4\n",
            "5\n"
          ]
        }
      ]
    },
    {
      "cell_type": "code",
      "source": [
        "i=0\n",
        "while i<11:\n",
        "  i+=1\n",
        "  print(i-1)\n"
      ],
      "metadata": {
        "colab": {
          "base_uri": "https://localhost:8080/"
        },
        "id": "oEJQpjXt79G0",
        "outputId": "072da803-96d3-4731-a3e4-b7e7fd64a0d7"
      },
      "execution_count": null,
      "outputs": [
        {
          "output_type": "stream",
          "name": "stdout",
          "text": [
            "0\n",
            "1\n",
            "2\n",
            "3\n",
            "4\n",
            "5\n",
            "6\n",
            "7\n",
            "8\n",
            "9\n",
            "10\n"
          ]
        }
      ]
    },
    {
      "cell_type": "code",
      "source": [
        "n1,n2 = map(int,input().split())\n",
        "n=0\n",
        "while n1<=n**2-100*n+1<=n2 :\n",
        "   n+=1\n",
        "   print(n)\n",
        "   if int(n)>0:\n",
        "    break\n",
        "   print(\"vo nghiem\")\n"
      ],
      "metadata": {
        "colab": {
          "base_uri": "https://localhost:8080/"
        },
        "id": "MIJQUSqK97FM",
        "outputId": "278cc3ae-447a-47bd-9a24-11c199013301"
      },
      "execution_count": null,
      "outputs": [
        {
          "output_type": "stream",
          "name": "stdout",
          "text": [
            "1 10\n",
            "1\n"
          ]
        }
      ]
    },
    {
      "cell_type": "markdown",
      "source": [
        "Hàm function\n"
      ],
      "metadata": {
        "id": "5N-E8NyWGA6L"
      }
    },
    {
      "cell_type": "code",
      "source": [
        "import math\n",
        "def f(x):\n",
        "  fn=math.sqrt(x**2+1)\n",
        "  return fn\n"
      ],
      "metadata": {
        "id": "2fkz3C43F5yD"
      },
      "execution_count": null,
      "outputs": []
    },
    {
      "cell_type": "code",
      "source": [
        "print(f(20))"
      ],
      "metadata": {
        "colab": {
          "base_uri": "https://localhost:8080/"
        },
        "id": "pmvDuySNGs8n",
        "outputId": "f9a13007-21e5-4887-a343-2c560f3b6247"
      },
      "execution_count": null,
      "outputs": [
        {
          "output_type": "stream",
          "name": "stdout",
          "text": [
            "20.024984394500787\n"
          ]
        }
      ]
    },
    {
      "cell_type": "markdown",
      "source": [
        "Tính đệ quy\n"
      ],
      "metadata": {
        "id": "x1D7oyGJHYo7"
      }
    },
    {
      "cell_type": "code",
      "source": [
        "def giai_thua(n):\n",
        "  if n==0:\n",
        "    return 1\n",
        "  else:\n",
        "    return giai_thua(n-1)*n"
      ],
      "metadata": {
        "id": "EmTjqQyAHb5z"
      },
      "execution_count": null,
      "outputs": []
    },
    {
      "cell_type": "code",
      "source": [
        "print(giai_thua(5))"
      ],
      "metadata": {
        "colab": {
          "base_uri": "https://localhost:8080/"
        },
        "id": "4IzXWLaVIkkQ",
        "outputId": "a55da3fd-2ca3-48e0-db16-900fe222d150"
      },
      "execution_count": null,
      "outputs": [
        {
          "output_type": "stream",
          "name": "stdout",
          "text": [
            "120\n"
          ]
        }
      ]
    },
    {
      "cell_type": "code",
      "source": [
        "def f(n):\n",
        "  #Nhập vào một số n >0\n",
        "n=int(input())\n",
        "fn= n"
      ],
      "metadata": {
        "id": "Aa_ix-JVKS-b"
      },
      "execution_count": null,
      "outputs": []
    },
    {
      "cell_type": "code",
      "source": [
        "def fibo(n):\n",
        "  if n==0 or n==1 :\n",
        "      return n\n",
        "  else:\n",
        "      return fibo(n-1)+fibo(n-2)\n",
        "n=int(input())\n",
        "print(fibo(n))"
      ],
      "metadata": {
        "colab": {
          "base_uri": "https://localhost:8080/"
        },
        "id": "Hui6MPjfCU7C",
        "outputId": "474513db-9e82-4676-bc57-7de001fd238d"
      },
      "execution_count": null,
      "outputs": [
        {
          "output_type": "stream",
          "name": "stdout",
          "text": [
            "5\n",
            "5\n"
          ]
        }
      ]
    },
    {
      "cell_type": "code",
      "source": [
        "import math\n",
        "n1,n2=map(int,input().split())\n",
        "ds=[]\n",
        "n=0\n",
        "while True:\n",
        "  x=n**2 - 100*n+1\n",
        "  if x>=n1 and x<=n2:\n",
        "   ds.append(n)\n",
        "  elif(x>n2):\n",
        "    break\n",
        "  n+=1\n",
        "print(len(ds))\n",
        "print(*ds)\n"
      ],
      "metadata": {
        "colab": {
          "base_uri": "https://localhost:8080/"
        },
        "id": "1j7104RdGK1t",
        "outputId": "603b210a-8d71-4d33-f2c5-f99656c2f502"
      },
      "execution_count": null,
      "outputs": [
        {
          "output_type": "stream",
          "name": "stdout",
          "text": [
            "1 100\n",
            "2\n",
            "0 100\n"
          ]
        }
      ]
    },
    {
      "cell_type": "code",
      "source": [],
      "metadata": {
        "id": "mr_681u6Moyw"
      },
      "execution_count": null,
      "outputs": []
    },
    {
      "cell_type": "code",
      "source": [
        "M=float(input())\n",
        "N=math.floor(1/M)\n",
        "if N<=M<N+1:\n",
        "  print(N)\n",
        "else:\n",
        "  print(\"NULL\")"
      ],
      "metadata": {
        "colab": {
          "base_uri": "https://localhost:8080/"
        },
        "id": "6SU4rM75HzXS",
        "outputId": "f7b40e7c-5c7a-483b-b321-3c94087de9e6"
      },
      "execution_count": null,
      "outputs": [
        {
          "output_type": "stream",
          "name": "stdout",
          "text": [
            "6.32\n",
            "NULL\n"
          ]
        }
      ]
    },
    {
      "cell_type": "code",
      "source": [
        "m,n=list(map(int,input().split()))\n",
        "A=[]\n",
        "for i in range(m):\n",
        "  hang_i=list(map(int,input().split()))\n",
        "  A.append(hang_i)\n",
        "for i in range(m):\n",
        "  for j in range(n):\n",
        "    print(A[i][j],end=\" \")\n",
        "  print()"
      ],
      "metadata": {
        "colab": {
          "base_uri": "https://localhost:8080/"
        },
        "id": "gfWgidJsROy_",
        "outputId": "b98df890-1da1-4d6f-fd45-1fd4d0c4d2bf"
      },
      "execution_count": null,
      "outputs": [
        {
          "output_type": "stream",
          "name": "stdout",
          "text": [
            "3 2\n",
            "1 2 \n",
            "3 4\n",
            "5 6\n",
            "1 2 \n",
            "3 4 \n",
            "5 6 \n"
          ]
        }
      ]
    },
    {
      "cell_type": "code",
      "source": [
        "def fibo(n):\n",
        "  if n==0 or n==1 :\n",
        "      return n\n",
        "  else:\n",
        "      return fibo(n-1)+fibo(n-2)\n",
        "n=int(input())\n",
        "print(fibo(n))"
      ],
      "metadata": {
        "id": "V10QFi0yV-Tt"
      },
      "execution_count": null,
      "outputs": []
    },
    {
      "cell_type": "code",
      "source": [
        "m,n,p=list(map(int,input().split()))\n",
        "A=[]\n",
        "for _ in range(m):\n",
        "   hang_i=list(map(int,input().split()))\n",
        "   A.append(hang_i)\n",
        "B=[]\n",
        "for _ in range(n):\n",
        "  hang_n=list(map(int,input().split()))\n",
        "  B.append(hang_)\n",
        "\n",
        "  C= [[0 for _ in range(p)] for _ in range(m)]\n",
        "\n",
        "for i in range(m):\n",
        "  for j in range(n):\n",
        "    for k in range(p):\n",
        "       C[i][j]+=A[i][j]*B[i][j]\n",
        "print(C[i][j], end=\" \")\n",
        "print()"
      ],
      "metadata": {
        "colab": {
          "base_uri": "https://localhost:8080/",
          "height": 349
        },
        "id": "1h66hrD6XTle",
        "outputId": "4a7c9b5f-287e-4f74-c2c5-f6a4370d608f"
      },
      "execution_count": null,
      "outputs": [
        {
          "name": "stdout",
          "output_type": "stream",
          "text": [
            "3 2 3\n",
            "1 2\n",
            "3 4\n",
            "3 6\n",
            "1 2 3\n",
            "4 5 6\n"
          ]
        },
        {
          "output_type": "error",
          "ename": "IndexError",
          "evalue": "ignored",
          "traceback": [
            "\u001b[0;31m---------------------------------------------------------------------------\u001b[0m",
            "\u001b[0;31mIndexError\u001b[0m                                Traceback (most recent call last)",
            "\u001b[0;32m<ipython-input-2-fdf3afe8784d>\u001b[0m in \u001b[0;36m<cell line: 13>\u001b[0;34m()\u001b[0m\n\u001b[1;32m     14\u001b[0m   \u001b[0;32mfor\u001b[0m \u001b[0mj\u001b[0m \u001b[0;32min\u001b[0m \u001b[0mrange\u001b[0m\u001b[0;34m(\u001b[0m\u001b[0mn\u001b[0m\u001b[0;34m)\u001b[0m\u001b[0;34m:\u001b[0m\u001b[0;34m\u001b[0m\u001b[0;34m\u001b[0m\u001b[0m\n\u001b[1;32m     15\u001b[0m     \u001b[0;32mfor\u001b[0m \u001b[0mk\u001b[0m \u001b[0;32min\u001b[0m \u001b[0mrange\u001b[0m\u001b[0;34m(\u001b[0m\u001b[0mp\u001b[0m\u001b[0;34m)\u001b[0m\u001b[0;34m:\u001b[0m\u001b[0;34m\u001b[0m\u001b[0;34m\u001b[0m\u001b[0m\n\u001b[0;32m---> 16\u001b[0;31m        \u001b[0mC\u001b[0m\u001b[0;34m[\u001b[0m\u001b[0mi\u001b[0m\u001b[0;34m]\u001b[0m\u001b[0;34m[\u001b[0m\u001b[0mj\u001b[0m\u001b[0;34m]\u001b[0m\u001b[0;34m+=\u001b[0m\u001b[0mA\u001b[0m\u001b[0;34m[\u001b[0m\u001b[0mi\u001b[0m\u001b[0;34m]\u001b[0m\u001b[0;34m[\u001b[0m\u001b[0mj\u001b[0m\u001b[0;34m]\u001b[0m\u001b[0;34m*\u001b[0m\u001b[0mB\u001b[0m\u001b[0;34m[\u001b[0m\u001b[0mi\u001b[0m\u001b[0;34m]\u001b[0m\u001b[0;34m[\u001b[0m\u001b[0mj\u001b[0m\u001b[0;34m]\u001b[0m\u001b[0;34m\u001b[0m\u001b[0;34m\u001b[0m\u001b[0m\n\u001b[0m\u001b[1;32m     17\u001b[0m \u001b[0mprint\u001b[0m\u001b[0;34m(\u001b[0m\u001b[0mC\u001b[0m\u001b[0;34m[\u001b[0m\u001b[0mi\u001b[0m\u001b[0;34m]\u001b[0m\u001b[0;34m[\u001b[0m\u001b[0mj\u001b[0m\u001b[0;34m]\u001b[0m\u001b[0;34m,\u001b[0m \u001b[0mend\u001b[0m\u001b[0;34m=\u001b[0m\u001b[0;34m\" \"\u001b[0m\u001b[0;34m)\u001b[0m\u001b[0;34m\u001b[0m\u001b[0;34m\u001b[0m\u001b[0m\n\u001b[1;32m     18\u001b[0m \u001b[0mprint\u001b[0m\u001b[0;34m(\u001b[0m\u001b[0;34m)\u001b[0m\u001b[0;34m\u001b[0m\u001b[0;34m\u001b[0m\u001b[0m\n",
            "\u001b[0;31mIndexError\u001b[0m: list index out of range"
          ]
        }
      ]
    },
    {
      "cell_type": "code",
      "source": [
        "m, n, p = map(int, input().split())\n",
        "\n",
        "matrix_a = []\n",
        "for _ in range(m):\n",
        "    row = list(map(int, input().split()))\n",
        "    matrix_a.append(row)\n",
        "\n",
        "matrix_b = []\n",
        "for _ in range(n):\n",
        "    row = list(map(int, input().split()))\n",
        "    matrix_b.append(row)\n",
        "\n",
        "matrix_c = [[0 for _ in range(p)] for _ in range(m)]\n",
        "\n",
        "for i in range(m):\n",
        "    for j in range(p):\n",
        "        for k in range(n):\n",
        "            matrix_c[i][j] += matrix_a[i][k] * matrix_b[k][j]\n",
        "\n",
        "for i in range(m):\n",
        "    for j in range(p):\n",
        "        print(matrix_c[i][j], end=\" \")\n",
        "    print()\n"
      ],
      "metadata": {
        "colab": {
          "base_uri": "https://localhost:8080/"
        },
        "id": "SPY8A64-aZcl",
        "outputId": "d89cdfaa-88ad-45aa-ab6f-50e63b73b627"
      },
      "execution_count": null,
      "outputs": [
        {
          "output_type": "stream",
          "name": "stdout",
          "text": [
            "3 2 3\n",
            "1 2 \n",
            "3 4\n",
            "5 6\n",
            "1 2 3\n",
            "4 5 6\n",
            "9 12 15 \n",
            "19 26 33 \n",
            "29 40 51 \n"
          ]
        }
      ]
    },
    {
      "cell_type": "code",
      "source": [
        "m,n,p = map(int,input().split())\n",
        "A=[]\n",
        "for _ in range(m):\n",
        "  hang_m=list(map(int,input().split()))\n",
        "  A.append(hang_m)\n",
        "B=[]\n",
        "for _ in range(n):\n",
        "  hang_n=list(map(int,input().split()))\n",
        "  B.append(hang_n)\n",
        "  C=[[0 for _ in range(n)]for _ in range(p)]\n",
        "  for i in range(m):\n",
        "    for j in range(n):\n",
        "     for l in range(p):\n",
        "      C[i][j]+=A[i][j]*B[i][l]\n",
        "      print(C[i][j])\n",
        "print()"
      ],
      "metadata": {
        "colab": {
          "base_uri": "https://localhost:8080/",
          "height": 401
        },
        "id": "THUzPT-U3A17",
        "outputId": "7236b96b-dee8-4c41-8122-3eb64fb68c55"
      },
      "execution_count": null,
      "outputs": [
        {
          "output_type": "stream",
          "name": "stdout",
          "text": [
            "3 2 2\n",
            "1 2 \n",
            "3 4\n",
            "4 5\n",
            "1 2\n",
            "1\n",
            "3\n",
            "2\n",
            "6\n"
          ]
        },
        {
          "output_type": "error",
          "ename": "IndexError",
          "evalue": "ignored",
          "traceback": [
            "\u001b[0;31m---------------------------------------------------------------------------\u001b[0m",
            "\u001b[0;31mIndexError\u001b[0m                                Traceback (most recent call last)",
            "\u001b[0;32m<ipython-input-7-1a26aa25704c>\u001b[0m in \u001b[0;36m<cell line: 7>\u001b[0;34m()\u001b[0m\n\u001b[1;32m     12\u001b[0m     \u001b[0;32mfor\u001b[0m \u001b[0mj\u001b[0m \u001b[0;32min\u001b[0m \u001b[0mrange\u001b[0m\u001b[0;34m(\u001b[0m\u001b[0mn\u001b[0m\u001b[0;34m)\u001b[0m\u001b[0;34m:\u001b[0m\u001b[0;34m\u001b[0m\u001b[0;34m\u001b[0m\u001b[0m\n\u001b[1;32m     13\u001b[0m      \u001b[0;32mfor\u001b[0m \u001b[0ml\u001b[0m \u001b[0;32min\u001b[0m \u001b[0mrange\u001b[0m\u001b[0;34m(\u001b[0m\u001b[0mp\u001b[0m\u001b[0;34m)\u001b[0m\u001b[0;34m:\u001b[0m\u001b[0;34m\u001b[0m\u001b[0;34m\u001b[0m\u001b[0m\n\u001b[0;32m---> 14\u001b[0;31m       \u001b[0mC\u001b[0m\u001b[0;34m[\u001b[0m\u001b[0mi\u001b[0m\u001b[0;34m]\u001b[0m\u001b[0;34m[\u001b[0m\u001b[0mj\u001b[0m\u001b[0;34m]\u001b[0m\u001b[0;34m+=\u001b[0m\u001b[0mA\u001b[0m\u001b[0;34m[\u001b[0m\u001b[0mi\u001b[0m\u001b[0;34m]\u001b[0m\u001b[0;34m[\u001b[0m\u001b[0mj\u001b[0m\u001b[0;34m]\u001b[0m\u001b[0;34m*\u001b[0m\u001b[0mB\u001b[0m\u001b[0;34m[\u001b[0m\u001b[0mi\u001b[0m\u001b[0;34m]\u001b[0m\u001b[0;34m[\u001b[0m\u001b[0ml\u001b[0m\u001b[0;34m]\u001b[0m\u001b[0;34m\u001b[0m\u001b[0;34m\u001b[0m\u001b[0m\n\u001b[0m\u001b[1;32m     15\u001b[0m       \u001b[0mprint\u001b[0m\u001b[0;34m(\u001b[0m\u001b[0mC\u001b[0m\u001b[0;34m[\u001b[0m\u001b[0mi\u001b[0m\u001b[0;34m]\u001b[0m\u001b[0;34m[\u001b[0m\u001b[0mj\u001b[0m\u001b[0;34m]\u001b[0m\u001b[0;34m)\u001b[0m\u001b[0;34m\u001b[0m\u001b[0;34m\u001b[0m\u001b[0m\n\u001b[1;32m     16\u001b[0m \u001b[0mprint\u001b[0m\u001b[0;34m(\u001b[0m\u001b[0;34m)\u001b[0m\u001b[0;34m\u001b[0m\u001b[0;34m\u001b[0m\u001b[0m\n",
            "\u001b[0;31mIndexError\u001b[0m: list index out of range"
          ]
        }
      ]
    }
  ]
}