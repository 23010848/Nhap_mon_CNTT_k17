{
  "nbformat": 4,
  "nbformat_minor": 0,
  "metadata": {
    "colab": {
      "provenance": []
    },
    "kernelspec": {
      "name": "python3",
      "display_name": "Python 3"
    },
    "language_info": {
      "name": "python"
    }
  },
  "cells": [
    {
      "cell_type": "markdown",
      "source": [
        "Kiểu dữ liệu danh sách\n",
        "Danh_sach=[A0,A1,...,An-1]"
      ],
      "metadata": {
        "id": "uLJnkXWyuq5c"
      }
    },
    {
      "cell_type": "code",
      "source": [
        "danh_sach=[1,1.2,3+4j , [1,2,3]]"
      ],
      "metadata": {
        "id": "7V3-kb8Uu7rE"
      },
      "execution_count": null,
      "outputs": []
    },
    {
      "cell_type": "markdown",
      "source": [
        "Hàm trả về độ dài (kích thước) của một danh sách"
      ],
      "metadata": {
        "id": "Mu3Yq5dUvUjl"
      }
    },
    {
      "cell_type": "code",
      "source": [
        "print(len(danh_sach))"
      ],
      "metadata": {
        "colab": {
          "base_uri": "https://localhost:8080/"
        },
        "id": "Dc_XqrqLvSkV",
        "outputId": "eefcf49a-6106-42ff-d226-f497214bfcaf"
      },
      "execution_count": null,
      "outputs": [
        {
          "output_type": "stream",
          "name": "stdout",
          "text": [
            "4\n"
          ]
        }
      ]
    },
    {
      "cell_type": "markdown",
      "source": [
        "Gọi các phần tử thứ $i$ của một danh sách"
      ],
      "metadata": {
        "id": "3kUe71rrv0Ud"
      }
    },
    {
      "cell_type": "code",
      "source": [
        "print(danh_sach[0])"
      ],
      "metadata": {
        "colab": {
          "base_uri": "https://localhost:8080/"
        },
        "id": "Ld2tpqIovtfd",
        "outputId": "cf9ded51-b372-4479-8e39-f04b24cbedd2"
      },
      "execution_count": null,
      "outputs": [
        {
          "output_type": "stream",
          "name": "stdout",
          "text": [
            "1\n"
          ]
        }
      ]
    },
    {
      "cell_type": "code",
      "source": [
        "n=len(danh_sach)\n",
        "print(danh_sach[n-1])"
      ],
      "metadata": {
        "colab": {
          "base_uri": "https://localhost:8080/"
        },
        "id": "wQHgvkiOwCa1",
        "outputId": "2aa5eafd-9e41-4947-a997-ce841804bc9d"
      },
      "execution_count": null,
      "outputs": [
        {
          "output_type": "stream",
          "name": "stdout",
          "text": [
            "[1, 2, 3]\n"
          ]
        }
      ]
    },
    {
      "cell_type": "code",
      "source": [
        "print(danh_sach[-1])"
      ],
      "metadata": {
        "colab": {
          "base_uri": "https://localhost:8080/"
        },
        "id": "0rpq_lv-wSTF",
        "outputId": "865180ce-3a0e-4f61-fc34-a5d17d1877de"
      },
      "execution_count": null,
      "outputs": [
        {
          "output_type": "stream",
          "name": "stdout",
          "text": [
            "[1, 2, 3]\n"
          ]
        }
      ]
    },
    {
      "cell_type": "code",
      "source": [],
      "metadata": {
        "id": "jpy_Aka4wXKN"
      },
      "execution_count": null,
      "outputs": []
    },
    {
      "cell_type": "markdown",
      "source": [
        "Tạo một danh sách"
      ],
      "metadata": {
        "id": "vcTfPvCjwch0"
      }
    },
    {
      "cell_type": "code",
      "source": [
        "Danh_sach=[]"
      ],
      "metadata": {
        "id": "RNcRT_9cwhr8"
      },
      "execution_count": null,
      "outputs": []
    },
    {
      "cell_type": "code",
      "source": [
        "print(type(Danh_sach))"
      ],
      "metadata": {
        "colab": {
          "base_uri": "https://localhost:8080/"
        },
        "id": "asD65ayJwnbc",
        "outputId": "0cda425e-1ba1-403a-85bc-85e4ef5cfbd4"
      },
      "execution_count": null,
      "outputs": [
        {
          "output_type": "stream",
          "name": "stdout",
          "text": [
            "<class 'list'>\n"
          ]
        }
      ]
    },
    {
      "cell_type": "code",
      "source": [
        "danh_sach.append(1)\n",
        "print(danh_sach)"
      ],
      "metadata": {
        "colab": {
          "base_uri": "https://localhost:8080/"
        },
        "id": "8v5spIYOwvVU",
        "outputId": "dae3971b-9eb7-43cb-d14a-692715453c3d"
      },
      "execution_count": null,
      "outputs": [
        {
          "output_type": "stream",
          "name": "stdout",
          "text": [
            "[1, 1, 1]\n"
          ]
        }
      ]
    },
    {
      "cell_type": "code",
      "source": [
        "danh_sach.append(1.2)\n",
        "print(danh_sach)\n"
      ],
      "metadata": {
        "colab": {
          "base_uri": "https://localhost:8080/"
        },
        "id": "aSszgHYTxRt0",
        "outputId": "8d1914ee-5393-4b12-c56f-80836a7f01d2"
      },
      "execution_count": null,
      "outputs": [
        {
          "output_type": "stream",
          "name": "stdout",
          "text": [
            "[1, 1, 1, 1.2]\n"
          ]
        }
      ]
    },
    {
      "cell_type": "markdown",
      "source": [
        "Hàm pop(),hãy lấy một từ ra khỏi đanh sách"
      ],
      "metadata": {
        "id": "qnTT_QGOxr0v"
      }
    },
    {
      "cell_type": "code",
      "source": [
        "danh_sach.pop(1)\n"
      ],
      "metadata": {
        "colab": {
          "base_uri": "https://localhost:8080/"
        },
        "id": "AzIsqjCQxyoE",
        "outputId": "c06e31a5-e8f6-44d4-a58d-8860f3c2cfb3"
      },
      "execution_count": null,
      "outputs": [
        {
          "output_type": "execute_result",
          "data": {
            "text/plain": [
              "1"
            ]
          },
          "metadata": {},
          "execution_count": 32
        }
      ]
    },
    {
      "cell_type": "code",
      "source": [
        "print(danh_sach)"
      ],
      "metadata": {
        "colab": {
          "base_uri": "https://localhost:8080/"
        },
        "id": "oavkZh1EyCj0",
        "outputId": "e69a9299-81e6-47e6-8dd7-eb7c736fe493"
      },
      "execution_count": null,
      "outputs": [
        {
          "output_type": "stream",
          "name": "stdout",
          "text": [
            "[1, 1.2, (3+4j), [1, 2, 3]]\n"
          ]
        }
      ]
    },
    {
      "cell_type": "markdown",
      "source": [
        "Hàm clear() xóa toàn bộ danh sach"
      ],
      "metadata": {
        "id": "wzj5fb0NyUnN"
      }
    },
    {
      "cell_type": "code",
      "source": [
        "danh_sach.clear()\n",
        "print(danh_sach)"
      ],
      "metadata": {
        "colab": {
          "base_uri": "https://localhost:8080/"
        },
        "id": "rVAmWwrbySn0",
        "outputId": "c94eef07-5801-4d97-9c0a-a92c5320756a"
      },
      "execution_count": null,
      "outputs": [
        {
          "output_type": "stream",
          "name": "stdout",
          "text": [
            "[]\n"
          ]
        }
      ]
    },
    {
      "cell_type": "markdown",
      "source": [
        "Kiểu Dữ Liệu Từ Điển"
      ],
      "metadata": {
        "id": "DJH5mEYBylqU"
      }
    },
    {
      "cell_type": "markdown",
      "source": [
        "Tu_Dien={ 'Từ khóa 1': Giá trị tương ứng với từ khóa 1, 'Từ khóa 2': Giá trị tương ứng với từ khóa 2, ...., 'từ khóa thứ n-1': Giá trị tương ứng với từ khóa thứ n-1  }"
      ],
      "metadata": {
        "id": "C5MmxN7JyzxR"
      }
    },
    {
      "cell_type": "code",
      "source": [
        "Sinh_vien={'Ho_ten':'Nguyen_Viet_Tien','Que_quan':'Thai_Binh','Tuoi':'19','MSV':'23010848','Gioi_tinh':'Nam'}\n"
      ],
      "metadata": {
        "id": "lIEAVmRwysF8"
      },
      "execution_count": null,
      "outputs": []
    },
    {
      "cell_type": "code",
      "source": [
        "print(type(Sinh_vien))"
      ],
      "metadata": {
        "colab": {
          "base_uri": "https://localhost:8080/"
        },
        "id": "1e5Y_UmizzP-",
        "outputId": "c462ea25-8f77-48fd-da0e-95eccd846e34"
      },
      "execution_count": null,
      "outputs": [
        {
          "output_type": "stream",
          "name": "stdout",
          "text": [
            "<class 'dict'>\n"
          ]
        }
      ]
    },
    {
      "cell_type": "code",
      "source": [
        "Sinh_vien.keys()"
      ],
      "metadata": {
        "colab": {
          "base_uri": "https://localhost:8080/"
        },
        "id": "e71g2LgMz5bi",
        "outputId": "6b4114c5-1e90-4354-c7f6-da8a8138b7eb"
      },
      "execution_count": null,
      "outputs": [
        {
          "output_type": "execute_result",
          "data": {
            "text/plain": [
              "dict_keys(['Ho_ten', 'Que_quan', 'Tuoi', 'MSV', 'Gioi_tinh'])"
            ]
          },
          "metadata": {},
          "execution_count": 46
        }
      ]
    },
    {
      "cell_type": "code",
      "source": [
        "Sinh_vien['Gioi_tinh']"
      ],
      "metadata": {
        "colab": {
          "base_uri": "https://localhost:8080/",
          "height": 36
        },
        "id": "ARRTONtZ0A7C",
        "outputId": "2ecd4330-2571-414e-fc8e-7130765c76af"
      },
      "execution_count": null,
      "outputs": [
        {
          "output_type": "execute_result",
          "data": {
            "text/plain": [
              "'Nam'"
            ],
            "application/vnd.google.colaboratory.intrinsic+json": {
              "type": "string"
            }
          },
          "metadata": {},
          "execution_count": 48
        }
      ]
    },
    {
      "cell_type": "code",
      "source": [
        "Sinh_vien['Tuoi']"
      ],
      "metadata": {
        "colab": {
          "base_uri": "https://localhost:8080/",
          "height": 36
        },
        "id": "FP4terYM0aUs",
        "outputId": "05d909e3-7c98-4ed5-a120-db749556ad53"
      },
      "execution_count": null,
      "outputs": [
        {
          "output_type": "execute_result",
          "data": {
            "text/plain": [
              "'19'"
            ],
            "application/vnd.google.colaboratory.intrinsic+json": {
              "type": "string"
            }
          },
          "metadata": {},
          "execution_count": 50
        }
      ]
    },
    {
      "cell_type": "code",
      "source": [
        "print(Sinh_vien)"
      ],
      "metadata": {
        "colab": {
          "base_uri": "https://localhost:8080/"
        },
        "id": "Vn1ddTnC0ikM",
        "outputId": "64ef9a5e-6682-4cf3-bf0a-9c26ea326e73"
      },
      "execution_count": null,
      "outputs": [
        {
          "output_type": "stream",
          "name": "stdout",
          "text": [
            "{'Ho_ten': 'Nguyen_Viet_Tien', 'Que_quan': 'Thai_Binh', 'Tuoi': '19', 'MSV': '23010848', 'Gioi_tinh': 'Nam'}\n"
          ]
        }
      ]
    },
    {
      "cell_type": "code",
      "source": [
        "Sinh_vien['Diem_thi']=25"
      ],
      "metadata": {
        "id": "eFgYDUu00qU0"
      },
      "execution_count": null,
      "outputs": []
    },
    {
      "cell_type": "code",
      "source": [
        "print(Sinh_vien)"
      ],
      "metadata": {
        "colab": {
          "base_uri": "https://localhost:8080/"
        },
        "id": "e31O-PSI01DT",
        "outputId": "e167a618-267c-4fd0-c086-30560effbb66"
      },
      "execution_count": null,
      "outputs": [
        {
          "output_type": "stream",
          "name": "stdout",
          "text": [
            "{'Ho_ten': 'Nguyen_Viet_Tien', 'Que_quan': 'Thai_Binh', 'Tuoi': '19', 'MSV': '23010848', 'Gioi_tinh': 'Nam', 'Diem_thi': 25}\n"
          ]
        }
      ]
    },
    {
      "cell_type": "markdown",
      "source": [
        "Cấu Trúc Dữ Liệu"
      ],
      "metadata": {
        "id": "zu--gicf08GF"
      }
    },
    {
      "cell_type": "code",
      "source": [
        "str1='Hello World'\n",
        "print(type(str1))"
      ],
      "metadata": {
        "colab": {
          "base_uri": "https://localhost:8080/"
        },
        "id": "xwerxg-i0-lz",
        "outputId": "9baa96ba-2965-43fc-b007-ce4b9f24bad0"
      },
      "execution_count": null,
      "outputs": [
        {
          "output_type": "stream",
          "name": "stdout",
          "text": [
            "<class 'str'>\n"
          ]
        }
      ]
    },
    {
      "cell_type": "code",
      "source": [
        "str2=\"Welcome to Phenikaa University\""
      ],
      "metadata": {
        "id": "qE5K_8ND1OhU"
      },
      "execution_count": null,
      "outputs": []
    },
    {
      "cell_type": "code",
      "source": [
        "print(type(str2))"
      ],
      "metadata": {
        "colab": {
          "base_uri": "https://localhost:8080/"
        },
        "id": "ZShGskt51SM8",
        "outputId": "ec41c345-f828-48d5-f9fd-1477ae485a39"
      },
      "execution_count": null,
      "outputs": [
        {
          "output_type": "stream",
          "name": "stdout",
          "text": [
            "<class 'str'>\n"
          ]
        }
      ]
    },
    {
      "cell_type": "markdown",
      "source": [
        "hàm cộng hai chuỗi ký tự"
      ],
      "metadata": {
        "id": "9BORpSSd1aGD"
      }
    },
    {
      "cell_type": "code",
      "source": [
        "str3=str1+', '+str2\n",
        "print(str3)"
      ],
      "metadata": {
        "colab": {
          "base_uri": "https://localhost:8080/"
        },
        "id": "pAWiQSRy1VHU",
        "outputId": "4eae5919-9d95-49a6-f151-484abe5cf224"
      },
      "execution_count": null,
      "outputs": [
        {
          "output_type": "stream",
          "name": "stdout",
          "text": [
            "Hello World, Welcome to Phenikaa University\n"
          ]
        }
      ]
    },
    {
      "cell_type": "code",
      "source": [
        "str4=str3.upper()\n",
        "print(str4)"
      ],
      "metadata": {
        "colab": {
          "base_uri": "https://localhost:8080/"
        },
        "id": "YtdXO95K1jcV",
        "outputId": "ca06f9ce-3bdf-4214-b750-891cbe8db6cc"
      },
      "execution_count": null,
      "outputs": [
        {
          "output_type": "stream",
          "name": "stdout",
          "text": [
            "HELLO WORLD, WELCOME TO PHENIKAA UNIVERSITY\n"
          ]
        }
      ]
    },
    {
      "cell_type": "code",
      "source": [
        "str5=str3.lower()\n",
        "print(str5)"
      ],
      "metadata": {
        "colab": {
          "base_uri": "https://localhost:8080/"
        },
        "id": "GKyOGn981oIL",
        "outputId": "6a3c5b6d-9ef9-4fd7-991c-b631f84bb3f3"
      },
      "execution_count": null,
      "outputs": [
        {
          "output_type": "stream",
          "name": "stdout",
          "text": [
            "hello world, welcome to phenikaa university\n"
          ]
        }
      ]
    },
    {
      "cell_type": "code",
      "source": [
        "print(len(str3))"
      ],
      "metadata": {
        "colab": {
          "base_uri": "https://localhost:8080/"
        },
        "id": "r8h9_PIa10n7",
        "outputId": "83f8bbcb-41aa-4334-b679-dee7a469f30c"
      },
      "execution_count": null,
      "outputs": [
        {
          "output_type": "stream",
          "name": "stdout",
          "text": [
            "43\n"
          ]
        }
      ]
    },
    {
      "cell_type": "markdown",
      "source": [
        "Chuyển từ một chuỗi ký tự sang một số"
      ],
      "metadata": {
        "id": "ZfYct24K170L"
      }
    },
    {
      "cell_type": "code",
      "source": [
        "str6='12345678'"
      ],
      "metadata": {
        "id": "f-435GRf14aD"
      },
      "execution_count": null,
      "outputs": []
    },
    {
      "cell_type": "code",
      "source": [
        "str7=int(str6)+1\n",
        "print(str7)"
      ],
      "metadata": {
        "colab": {
          "base_uri": "https://localhost:8080/"
        },
        "id": "5guSs-Dd2HEz",
        "outputId": "93c86fa8-fcea-4c1a-a5cc-1e92b0747aba"
      },
      "execution_count": null,
      "outputs": [
        {
          "output_type": "stream",
          "name": "stdout",
          "text": [
            "12345679\n"
          ]
        }
      ]
    },
    {
      "cell_type": "markdown",
      "source": [
        "Chuyển một số sang một chuỗi ký tự"
      ],
      "metadata": {
        "id": "MapTCrSi2VJb"
      }
    },
    {
      "cell_type": "code",
      "source": [
        "x=1/3\n",
        "print(x)"
      ],
      "metadata": {
        "colab": {
          "base_uri": "https://localhost:8080/"
        },
        "id": "VyK9r2D22V2L",
        "outputId": "1e38c59c-0b1f-48c8-b02c-febedc6a9611"
      },
      "execution_count": null,
      "outputs": [
        {
          "output_type": "stream",
          "name": "stdout",
          "text": [
            "0.3333333333333333\n"
          ]
        }
      ]
    },
    {
      "cell_type": "code",
      "source": [
        "'Gia tri cua x ='=+str(x)"
      ],
      "metadata": {
        "id": "XSD1DmS_2uT0"
      },
      "execution_count": null,
      "outputs": []
    },
    {
      "cell_type": "markdown",
      "source": [
        "Câu lệnh vòng lặp"
      ],
      "metadata": {
        "id": "Qt1HC0mX24xk"
      }
    },
    {
      "cell_type": "code",
      "source": [
        "print(1)\n",
        "print(2)\n",
        "print(3)\n",
        "print(4)\n",
        "print(5)\n",
        "print(6)\n",
        "print(7)\n",
        "print(8)\n",
        "print(9)"
      ],
      "metadata": {
        "colab": {
          "base_uri": "https://localhost:8080/"
        },
        "id": "1KUURqGv27DL",
        "outputId": "fd4f8d63-c225-4fa1-9161-b6f279534d4b"
      },
      "execution_count": null,
      "outputs": [
        {
          "output_type": "stream",
          "name": "stdout",
          "text": [
            "1\n",
            "2\n",
            "3\n",
            "4\n",
            "5\n",
            "6\n",
            "7\n",
            "8\n",
            "9\n"
          ]
        }
      ]
    },
    {
      "cell_type": "code",
      "source": [
        "for i in range(1,9):\n",
        "  print(i)"
      ],
      "metadata": {
        "colab": {
          "base_uri": "https://localhost:8080/"
        },
        "id": "gOrOCerF3KKr",
        "outputId": "08ff92c1-7a77-4368-ef51-556815669c66"
      },
      "execution_count": null,
      "outputs": [
        {
          "output_type": "stream",
          "name": "stdout",
          "text": [
            "1\n",
            "2\n",
            "3\n",
            "4\n",
            "5\n",
            "6\n",
            "7\n",
            "8\n"
          ]
        }
      ]
    },
    {
      "cell_type": "markdown",
      "source": [
        "Dạng 1"
      ],
      "metadata": {
        "id": "rN20CLob3Wh0"
      }
    },
    {
      "cell_type": "code",
      "source": [
        "for i in range(n):\n",
        "  thực hiện công việc thứ i"
      ],
      "metadata": {
        "id": "ekZqOiij3YLc"
      },
      "execution_count": null,
      "outputs": []
    },
    {
      "cell_type": "markdown",
      "source": [
        "i sẽ nhận trong các giá trịi=0,1,2,... n-1"
      ],
      "metadata": {
        "id": "Y2ATsg5h3edk"
      }
    },
    {
      "cell_type": "code",
      "source": [
        "for i in range(10):\n",
        "  print(i)"
      ],
      "metadata": {
        "colab": {
          "base_uri": "https://localhost:8080/"
        },
        "id": "899-UOmI3VFM",
        "outputId": "efd6f3eb-1a02-45cf-b8c1-870375cb84c3"
      },
      "execution_count": null,
      "outputs": [
        {
          "output_type": "stream",
          "name": "stdout",
          "text": [
            "0\n",
            "1\n",
            "2\n",
            "3\n",
            "4\n",
            "5\n",
            "6\n",
            "7\n",
            "8\n",
            "9\n"
          ]
        }
      ]
    },
    {
      "cell_type": "markdown",
      "source": [
        "Dạng 2"
      ],
      "metadata": {
        "id": "3YGjIB674jbb"
      }
    },
    {
      "cell_type": "code",
      "source": [
        "for i in range(n1,n2):\n",
        "  thực hiện công việc thứ i\n"
      ],
      "metadata": {
        "id": "oRI-STom4nAj"
      },
      "execution_count": null,
      "outputs": []
    },
    {
      "cell_type": "code",
      "source": [
        "i sẽ thực hiện các công việc i= n1,n1+1,n1+2+...n2-1"
      ],
      "metadata": {
        "id": "3LyRkuTP4q0z"
      },
      "execution_count": null,
      "outputs": []
    },
    {
      "cell_type": "code",
      "source": [
        "for i in range(5,10):\n",
        "   print(i)"
      ],
      "metadata": {
        "colab": {
          "base_uri": "https://localhost:8080/"
        },
        "id": "4VxLzPmE5BIC",
        "outputId": "cdd966e1-e5a6-46ce-e23e-7097c719f9f6"
      },
      "execution_count": null,
      "outputs": [
        {
          "output_type": "stream",
          "name": "stdout",
          "text": [
            "5\n",
            "6\n",
            "7\n",
            "8\n",
            "9\n"
          ]
        }
      ]
    },
    {
      "cell_type": "markdown",
      "source": [
        "Dạng 3"
      ],
      "metadata": {
        "id": "YgOIk7H75OXn"
      }
    },
    {
      "cell_type": "code",
      "source": [
        "\n",
        "for i in range(n1,n2,s):\n",
        "  Thực hiện công việc thứ i"
      ],
      "metadata": {
        "id": "s3qSVbKD2vmj"
      },
      "execution_count": null,
      "outputs": []
    },
    {
      "cell_type": "code",
      "source": [
        "i  sẽ nhận các giá trị i=n1,n1+s,n1+2s,n1+3s,…,n1+ks<n2\n"
      ],
      "metadata": {
        "id": "VveZckWI5YoT"
      },
      "execution_count": null,
      "outputs": []
    },
    {
      "cell_type": "code",
      "source": [
        "for i in range (1,20,2):\n",
        "  print(i)"
      ],
      "metadata": {
        "colab": {
          "base_uri": "https://localhost:8080/"
        },
        "id": "HO5sNLYS5kc7",
        "outputId": "57f6cb1d-adc0-4beb-f3c2-df28d8e3f705"
      },
      "execution_count": null,
      "outputs": [
        {
          "output_type": "stream",
          "name": "stdout",
          "text": [
            "1\n",
            "3\n",
            "5\n",
            "7\n",
            "9\n",
            "11\n",
            "13\n",
            "15\n",
            "17\n",
            "19\n"
          ]
        }
      ]
    },
    {
      "cell_type": "code",
      "source": [
        "tong=0\n",
        "for i in range(0,1501,2):\n",
        "  tong=tong+i\n",
        "print(tong)"
      ],
      "metadata": {
        "colab": {
          "base_uri": "https://localhost:8080/"
        },
        "id": "0IgMyYdb6TK6",
        "outputId": "9b384ff9-9b51-4dee-d694-855717973bba"
      },
      "execution_count": null,
      "outputs": [
        {
          "output_type": "stream",
          "name": "stdout",
          "text": [
            "563250\n"
          ]
        }
      ]
    },
    {
      "cell_type": "markdown",
      "source": [
        "Truong hop s<0\n"
      ],
      "metadata": {
        "id": "iZdE9sN66fvk"
      }
    },
    {
      "cell_type": "code",
      "source": [
        "for i in range(10,1,-1):\n",
        "   print(i)"
      ],
      "metadata": {
        "colab": {
          "base_uri": "https://localhost:8080/"
        },
        "id": "_gfu5c4p6ic6",
        "outputId": "564df072-c1d0-4a1f-e419-5fc0cfa55fef"
      },
      "execution_count": null,
      "outputs": [
        {
          "output_type": "stream",
          "name": "stdout",
          "text": [
            "10\n",
            "9\n",
            "8\n",
            "7\n",
            "6\n",
            "5\n",
            "4\n",
            "3\n",
            "2\n"
          ]
        }
      ]
    },
    {
      "cell_type": "markdown",
      "source": [
        "Làm tròn số thực"
      ],
      "metadata": {
        "id": "RXv_3EJi68va"
      }
    },
    {
      "cell_type": "code",
      "source": [
        "x=1/3\n",
        "print(x)"
      ],
      "metadata": {
        "colab": {
          "base_uri": "https://localhost:8080/"
        },
        "id": "TlRxe-8J6cBD",
        "outputId": "32f0a4c1-0ccb-47fd-9e34-91d0f1cce4ec"
      },
      "execution_count": null,
      "outputs": [
        {
          "output_type": "stream",
          "name": "stdout",
          "text": [
            "0.3333333333333333\n"
          ]
        }
      ]
    },
    {
      "cell_type": "markdown",
      "source": [
        "In ra màn hình số được làm tròn 3 chữ số phần thập phân"
      ],
      "metadata": {
        "id": "3fg0mDIb7D1S"
      }
    },
    {
      "cell_type": "code",
      "source": [
        "x=1/3\n",
        "print('%0.3f'%x)"
      ],
      "metadata": {
        "colab": {
          "base_uri": "https://localhost:8080/"
        },
        "id": "cX_CUx2I7Rh1",
        "outputId": "d6a326de-ff34-4d7a-c3cc-81383791ccbb"
      },
      "execution_count": null,
      "outputs": [
        {
          "output_type": "stream",
          "name": "stdout",
          "text": [
            "0.333\n"
          ]
        }
      ]
    },
    {
      "cell_type": "markdown",
      "source": [
        "Nhập từ bàn phím\n"
      ],
      "metadata": {
        "id": "cu2BAkRp7lYq"
      }
    },
    {
      "cell_type": "code",
      "source": [
        "input()"
      ],
      "metadata": {
        "colab": {
          "base_uri": "https://localhost:8080/",
          "height": 53
        },
        "id": "PxFWwOjH7nzz",
        "outputId": "ba559281-5b3b-4a4d-a63d-6f7306824dc9"
      },
      "execution_count": null,
      "outputs": [
        {
          "name": "stdout",
          "output_type": "stream",
          "text": [
            "123456\n"
          ]
        },
        {
          "output_type": "execute_result",
          "data": {
            "text/plain": [
              "'123456'"
            ],
            "application/vnd.google.colaboratory.intrinsic+json": {
              "type": "string"
            }
          },
          "metadata": {},
          "execution_count": 93
        }
      ]
    },
    {
      "cell_type": "code",
      "source": [
        "type(x)"
      ],
      "metadata": {
        "colab": {
          "base_uri": "https://localhost:8080/"
        },
        "id": "CdLlNJFw7Cl6",
        "outputId": "c03ae97e-ed14-45a4-881a-d39e7306152d"
      },
      "execution_count": null,
      "outputs": [
        {
          "output_type": "execute_result",
          "data": {
            "text/plain": [
              "float"
            ]
          },
          "metadata": {},
          "execution_count": 94
        }
      ]
    },
    {
      "cell_type": "markdown",
      "source": [
        "Dạng 1"
      ],
      "metadata": {
        "id": "odOTMAEu1cij"
      }
    },
    {
      "cell_type": "code",
      "source": [
        "if (điều kiện )\n",
        "thuc hien cau lenh"
      ],
      "metadata": {
        "id": "hVxRgW6NsmKd"
      },
      "execution_count": null,
      "outputs": []
    },
    {
      "cell_type": "code",
      "source": [
        "x=5\n",
        "if x>3:\n",
        "  print(x,' >3')"
      ],
      "metadata": {
        "colab": {
          "base_uri": "https://localhost:8080/"
        },
        "id": "UYIuGW_Lsv5c",
        "outputId": "e9ff3d49-d797-4535-e753-64412963c75e"
      },
      "execution_count": null,
      "outputs": [
        {
          "output_type": "stream",
          "name": "stdout",
          "text": [
            "5  >3\n"
          ]
        }
      ]
    },
    {
      "cell_type": "markdown",
      "source": [
        "Dạng 2\n"
      ],
      "metadata": {
        "id": "XVpjM61Hs-uU"
      }
    },
    {
      "cell_type": "code",
      "source": [
        "if (điều kiện):\n",
        "  thực hiện công việc A\n",
        "else:\n",
        "  thực hiện công việc B"
      ],
      "metadata": {
        "id": "We9xY-1ltA7k"
      },
      "execution_count": null,
      "outputs": []
    },
    {
      "cell_type": "code",
      "source": [
        "x=5\n",
        "if x>3:\n",
        "  print(x,'>3')\n",
        "else:\n",
        "  print(x,'<=3')"
      ],
      "metadata": {
        "colab": {
          "base_uri": "https://localhost:8080/"
        },
        "id": "pFtlyHYptFGM",
        "outputId": "cdc0bd21-798d-4491-b3ee-f45c0a89c736"
      },
      "execution_count": null,
      "outputs": [
        {
          "output_type": "stream",
          "name": "stdout",
          "text": [
            "5 >3\n"
          ]
        }
      ]
    },
    {
      "cell_type": "markdown",
      "source": [
        "Dạng 3\n"
      ],
      "metadata": {
        "id": "eHZxy_Ayt7uE"
      }
    },
    {
      "cell_type": "code",
      "source": [
        "\n",
        "if (điều kiện 1):\n",
        "  thực hiện công việc A\n",
        "elif (điều kiện 2):\n",
        "  thực hiện công việc B\n",
        "else:\n",
        "  Thực hiện công việc C"
      ],
      "metadata": {
        "id": "hfLP7Iedt9A9"
      },
      "execution_count": null,
      "outputs": []
    },
    {
      "cell_type": "code",
      "source": [
        "x=1\n",
        "\n",
        "if x>3:\n",
        "  print(x,'>3')\n",
        "elif (x==3):\n",
        "  print(x,'=3')\n",
        "else:\n",
        "  print(x,'<3')"
      ],
      "metadata": {
        "colab": {
          "base_uri": "https://localhost:8080/"
        },
        "id": "iB7_fMzquEyF",
        "outputId": "73355ee7-37ea-4cda-fc43-7accffff7c9f"
      },
      "execution_count": null,
      "outputs": [
        {
          "output_type": "stream",
          "name": "stdout",
          "text": [
            "1 <3\n"
          ]
        }
      ]
    }
  ]
}