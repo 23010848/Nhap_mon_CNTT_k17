{
  "nbformat": 4,
  "nbformat_minor": 0,
  "metadata": {
    "colab": {
      "provenance": []
    },
    "kernelspec": {
      "name": "python3",
      "display_name": "Python 3"
    },
    "language_info": {
      "name": "python"
    }
  },
  "cells": [
    {
      "cell_type": "code",
      "source": [
        "print(\"Hello World\")"
      ],
      "metadata": {
        "colab": {
          "base_uri": "https://localhost:8080/"
        },
        "id": "myJRjwo2EXVt",
        "outputId": "cc1fc243-c0bf-47ea-fc7a-3197620072d0"
      },
      "execution_count": null,
      "outputs": [
        {
          "output_type": "stream",
          "name": "stdout",
          "text": [
            "Hello World\n"
          ]
        }
      ]
    },
    {
      "cell_type": "code",
      "source": [
        "print(\"Welcome to Phenikaa University \")"
      ],
      "metadata": {
        "colab": {
          "base_uri": "https://localhost:8080/"
        },
        "id": "8bPNo96BPCNK",
        "outputId": "225b3048-6487-49d2-a389-fa64dd1291be"
      },
      "execution_count": null,
      "outputs": [
        {
          "output_type": "stream",
          "name": "stdout",
          "text": [
            "Welcome to Phenikaa University \n"
          ]
        }
      ]
    },
    {
      "cell_type": "code",
      "source": [
        "\n",
        "x=5\n"
      ],
      "metadata": {
        "id": "v1g7sCwkPLEb"
      },
      "execution_count": null,
      "outputs": []
    },
    {
      "cell_type": "code",
      "source": [
        "print((x))\n",
        "class"
      ],
      "metadata": {
        "colab": {
          "base_uri": "https://localhost:8080/",
          "height": 142
        },
        "id": "SaKNvwv0P-YC",
        "outputId": "46bc3ba1-99d5-4caf-bcf1-c76e1af4b51b"
      },
      "execution_count": null,
      "outputs": [
        {
          "output_type": "error",
          "ename": "SyntaxError",
          "evalue": "ignored",
          "traceback": [
            "\u001b[0;36m  File \u001b[0;32m\"<ipython-input-64-b88b213256a9>\"\u001b[0;36m, line \u001b[0;32m2\u001b[0m\n\u001b[0;31m    class 'int'\u001b[0m\n\u001b[0m          ^\u001b[0m\n\u001b[0;31mSyntaxError\u001b[0m\u001b[0;31m:\u001b[0m invalid syntax\n"
          ]
        }
      ]
    },
    {
      "cell_type": "code",
      "source": [
        "x=1.3\n"
      ],
      "metadata": {
        "id": "Hcw6AAm_QQDB"
      },
      "execution_count": null,
      "outputs": []
    },
    {
      "cell_type": "markdown",
      "source": [
        "# Mục mới"
      ],
      "metadata": {
        "id": "2Gf7kYJlEwgT"
      }
    },
    {
      "cell_type": "code",
      "execution_count": null,
      "metadata": {
        "colab": {
          "base_uri": "https://localhost:8080/",
          "height": 142
        },
        "id": "A-zXZ68qBb38",
        "outputId": "77d66d45-2db3-4430-d94a-62ec3607eade"
      },
      "outputs": [
        {
          "output_type": "error",
          "ename": "SyntaxError",
          "evalue": "ignored",
          "traceback": [
            "\u001b[0;36m  File \u001b[0;32m\"<ipython-input-55-74efa0d267dd>\"\u001b[0;36m, line \u001b[0;32m9\u001b[0m\n\u001b[0;31m    <class 'int'>\u001b[0m\n\u001b[0m    ^\u001b[0m\n\u001b[0;31mSyntaxError\u001b[0m\u001b[0;31m:\u001b[0m invalid syntax\n"
          ]
        }
      ],
      "source": [
        "\n",
        "print (\"Hello World\");\n",
        "\n",
        "print (\"Welcome to Phenikaa University\")\n",
        "\n",
        "\n",
        "x= 5\n",
        "\n",
        "print( type(x))\n",
        "<class 'int'>\n",
        "\n",
        "\n",
        "x=1.3\n",
        "\n",
        "print(type(x))\n",
        "<class 'float'>\n",
        "\n",
        "so phuc\n",
        "\n",
        "z= 3+4j\n",
        "\n",
        "print(type(z))\n",
        "\n",
        "<class 'complex'>\n",
        "\n",
        "\n",
        "phep cong\n",
        "\n",
        "a=4\n",
        "b=5\n",
        "c= a+b\n",
        "print(\"c\",c)\n",
        "\n",
        "\n"
      ]
    },
    {
      "cell_type": "markdown",
      "source": [],
      "metadata": {
        "id": "FdgFVPNPLgxp"
      }
    },
    {
      "cell_type": "code",
      "source": [],
      "metadata": {
        "id": "k1bwHrd-LhGA"
      },
      "execution_count": null,
      "outputs": []
    },
    {
      "cell_type": "code",
      "source": [
        "\n",
        "\n",
        "a=4\n",
        "b=5\n",
        "c= a+b\n",
        "print(\"c\",c)"
      ],
      "metadata": {
        "colab": {
          "base_uri": "https://localhost:8080/"
        },
        "id": "BnRhvtx9HFRA",
        "outputId": "3577d134-9d78-47aa-c1eb-027a95afb584"
      },
      "execution_count": null,
      "outputs": [
        {
          "output_type": "stream",
          "name": "stdout",
          "text": [
            "c 9\n"
          ]
        }
      ]
    },
    {
      "cell_type": "code",
      "source": [
        "a=5\n",
        "b=2\n",
        "c=a-b\n",
        "print(\"c\",c)"
      ],
      "metadata": {
        "colab": {
          "base_uri": "https://localhost:8080/"
        },
        "id": "Amwmi4svHYxd",
        "outputId": "1b475ad0-3232-4cd8-cf64-8216321ff8c9"
      },
      "execution_count": null,
      "outputs": [
        {
          "output_type": "stream",
          "name": "stdout",
          "text": [
            "c 3\n"
          ]
        }
      ]
    },
    {
      "cell_type": "code",
      "source": [
        "a=14\n",
        "b=2\n",
        "c=a*b\n",
        "print(\"c\",c)"
      ],
      "metadata": {
        "id": "PzYRS3R6Hfzy"
      },
      "execution_count": null,
      "outputs": []
    },
    {
      "cell_type": "code",
      "source": [
        "a=8\n",
        "b=2\n",
        "c=a/b\n",
        "print(\"c\",c)"
      ],
      "metadata": {
        "colab": {
          "base_uri": "https://localhost:8080/"
        },
        "id": "796dykjRHpbR",
        "outputId": "f311751c-099d-4265-9154-b830bb2118ab"
      },
      "execution_count": null,
      "outputs": [
        {
          "output_type": "stream",
          "name": "stdout",
          "text": [
            "c 4.0\n"
          ]
        }
      ]
    },
    {
      "cell_type": "code",
      "source": [
        "a=13\n",
        "b=3\n",
        "c=a//b\n",
        "print(\"c\",c)"
      ],
      "metadata": {
        "colab": {
          "base_uri": "https://localhost:8080/"
        },
        "id": "V2j_UG3tH3NQ",
        "outputId": "27bbf3ae-dec0-49c1-ed65-50d361c54273"
      },
      "execution_count": null,
      "outputs": [
        {
          "output_type": "stream",
          "name": "stdout",
          "text": [
            "c 4\n"
          ]
        }
      ]
    },
    {
      "cell_type": "code",
      "source": [
        "a=10\n",
        "b=3\n",
        "c=a%b\n",
        "print(\"c\",c)"
      ],
      "metadata": {
        "colab": {
          "base_uri": "https://localhost:8080/"
        },
        "id": "bg35Z2BqIAwL",
        "outputId": "ffd1f07d-7a1e-42e2-efc5-e43e07f4a89a"
      },
      "execution_count": null,
      "outputs": [
        {
          "output_type": "stream",
          "name": "stdout",
          "text": [
            "c 1\n"
          ]
        }
      ]
    },
    {
      "cell_type": "code",
      "source": [
        "a=7\n",
        "b=3\n",
        "c=a**b\n",
        "print(\"c\",c)"
      ],
      "metadata": {
        "colab": {
          "base_uri": "https://localhost:8080/"
        },
        "id": "j7kBWAPDIKMe",
        "outputId": "cdf562ed-e980-4c59-b7dd-5d339a64af64"
      },
      "execution_count": null,
      "outputs": [
        {
          "output_type": "stream",
          "name": "stdout",
          "text": [
            "c 343\n"
          ]
        }
      ]
    },
    {
      "cell_type": "code",
      "source": [
        "import math\n",
        "x=16\n",
        "y=math.sqrt(x)\n",
        "print(\"y\",y)"
      ],
      "metadata": {
        "colab": {
          "base_uri": "https://localhost:8080/"
        },
        "id": "vmRrNYi3IV9d",
        "outputId": "f3c79efb-ca5e-4eef-b955-7b4a7bcdff1d"
      },
      "execution_count": null,
      "outputs": [
        {
          "output_type": "stream",
          "name": "stdout",
          "text": [
            "y 4.0\n"
          ]
        }
      ]
    },
    {
      "cell_type": "code",
      "source": [
        "pi=math.pi\n",
        "cos=math.cos\n",
        "sin=math.sin\n",
        "tan=math.tan"
      ],
      "metadata": {
        "id": "ev2arJi9IoER"
      },
      "execution_count": null,
      "outputs": []
    },
    {
      "cell_type": "code",
      "source": [
        "x=pi/3\n",
        "y=cos(x)\n",
        "print(\"y\",y)"
      ],
      "metadata": {
        "colab": {
          "base_uri": "https://localhost:8080/"
        },
        "id": "piJMuDv0JHxJ",
        "outputId": "5e9f7432-2c46-47c8-b870-fb24a9a63b2f"
      },
      "execution_count": null,
      "outputs": [
        {
          "output_type": "stream",
          "name": "stdout",
          "text": [
            "y 0.5000000000000001\n"
          ]
        }
      ]
    },
    {
      "cell_type": "code",
      "source": [
        "x=pi/6\n",
        "y=sin(x)\n",
        "print(\"y\",y)"
      ],
      "metadata": {
        "colab": {
          "base_uri": "https://localhost:8080/"
        },
        "id": "BrBY2bbhJdPI",
        "outputId": "d1f23af7-3235-4112-da70-3f06ecfe64d2"
      },
      "execution_count": null,
      "outputs": [
        {
          "output_type": "stream",
          "name": "stdout",
          "text": [
            "y 0.49999999999999994\n"
          ]
        }
      ]
    },
    {
      "cell_type": "code",
      "source": [
        "x=pi/4\n",
        "y=tan(x)\n",
        "print(\"y\",y)"
      ],
      "metadata": {
        "colab": {
          "base_uri": "https://localhost:8080/"
        },
        "id": "UUngoQLnJn8G",
        "outputId": "d24436b9-3dc6-40b9-e9ca-5bde14d585dd"
      },
      "execution_count": null,
      "outputs": [
        {
          "output_type": "stream",
          "name": "stdout",
          "text": [
            "y 0.9999999999999999\n"
          ]
        }
      ]
    },
    {
      "cell_type": "code",
      "source": [
        "import math"
      ],
      "metadata": {
        "id": "UjAOIQXhJvoC"
      },
      "execution_count": null,
      "outputs": []
    },
    {
      "cell_type": "code",
      "source": [
        "x=1\n",
        "y=math.exp(x)\n",
        "print(\"y\",y)"
      ],
      "metadata": {
        "colab": {
          "base_uri": "https://localhost:8080/"
        },
        "id": "uy84xExaJ0bw",
        "outputId": "c1f58d01-b57e-4215-b874-e897422c4ea6"
      },
      "execution_count": null,
      "outputs": [
        {
          "output_type": "stream",
          "name": "stdout",
          "text": [
            "y 2.718281828459045\n"
          ]
        }
      ]
    },
    {
      "cell_type": "code",
      "source": [
        "exp=math.exp\n",
        "x=1\n",
        "y=exp(x)\n",
        "print(\"y=\",y)"
      ],
      "metadata": {
        "colab": {
          "base_uri": "https://localhost:8080/"
        },
        "id": "EHMpMoJKKHWY",
        "outputId": "b9cd5e1a-6eca-43e2-d744-99cc9592780f"
      },
      "execution_count": null,
      "outputs": [
        {
          "output_type": "stream",
          "name": "stdout",
          "text": [
            "y= 2.718281828459045\n"
          ]
        }
      ]
    },
    {
      "cell_type": "code",
      "source": [
        "import math\n",
        "cosh=math.cosh"
      ],
      "metadata": {
        "id": "3JyAF6bAKjZq"
      },
      "execution_count": null,
      "outputs": []
    },
    {
      "cell_type": "code",
      "source": [
        "x=-1\n",
        "y=cosh(x)\n",
        "print(\"y=\",y)"
      ],
      "metadata": {
        "colab": {
          "base_uri": "https://localhost:8080/"
        },
        "id": "nAECmXmpK1oS",
        "outputId": "db9eaffa-eb28-41e1-d50e-ee36d7fd1690"
      },
      "execution_count": null,
      "outputs": [
        {
          "output_type": "stream",
          "name": "stdout",
          "text": [
            "y= 1.5430806348152437\n"
          ]
        }
      ]
    },
    {
      "cell_type": "code",
      "source": [
        "import math\n",
        "sinh=math.sinh"
      ],
      "metadata": {
        "id": "22qAcxdMLEMA"
      },
      "execution_count": null,
      "outputs": []
    },
    {
      "cell_type": "code",
      "source": [
        "x=-1\n",
        "y=sinh(x)\n",
        "print(\"y=\",y)"
      ],
      "metadata": {
        "colab": {
          "base_uri": "https://localhost:8080/"
        },
        "id": "BW1i1iXTLMRB",
        "outputId": "054a8d62-389d-4d67-ede3-baa2597fcbf2"
      },
      "execution_count": null,
      "outputs": [
        {
          "output_type": "stream",
          "name": "stdout",
          "text": [
            "y= -1.1752011936438014\n"
          ]
        }
      ]
    },
    {
      "cell_type": "code",
      "source": [
        "import math\n",
        "tanh=math.tanh\n"
      ],
      "metadata": {
        "id": "q-LJDszMLVhP"
      },
      "execution_count": null,
      "outputs": []
    },
    {
      "cell_type": "code",
      "source": [],
      "metadata": {
        "id": "0IT86sW0MRWN"
      },
      "execution_count": null,
      "outputs": []
    },
    {
      "cell_type": "code",
      "source": [
        "x=1\n",
        "y=tanh(x)\n",
        "print(\"y=\",y)"
      ],
      "metadata": {
        "colab": {
          "base_uri": "https://localhost:8080/"
        },
        "id": "usujrN3xL5fZ",
        "outputId": "9dfa1ab6-221d-4fbf-cde3-bb1fdcc311b4"
      },
      "execution_count": null,
      "outputs": [
        {
          "output_type": "stream",
          "name": "stdout",
          "text": [
            "y= 0.7615941559557649\n"
          ]
        }
      ]
    },
    {
      "cell_type": "code",
      "source": [
        "import math\n",
        "ln=math.log"
      ],
      "metadata": {
        "id": "pdCAwG1hMc4w"
      },
      "execution_count": null,
      "outputs": []
    },
    {
      "cell_type": "code",
      "source": [
        "x=exp(2)\n",
        "y=ln(x)\n",
        "print(\"y=\",y)"
      ],
      "metadata": {
        "colab": {
          "base_uri": "https://localhost:8080/"
        },
        "id": "eAd1rYmeMlEC",
        "outputId": "5e630fdc-ad7e-4906-9a5b-1382291e47af"
      },
      "execution_count": null,
      "outputs": [
        {
          "output_type": "stream",
          "name": "stdout",
          "text": [
            "y= 2.0\n"
          ]
        }
      ]
    },
    {
      "cell_type": "code",
      "source": [
        "import math\n"
      ],
      "metadata": {
        "id": "dwRmMoQiMvaa"
      },
      "execution_count": null,
      "outputs": []
    },
    {
      "cell_type": "code",
      "source": [
        "x=1000\n",
        "y=math.log10(x)\n",
        "print(\"y=\",y)"
      ],
      "metadata": {
        "colab": {
          "base_uri": "https://localhost:8080/"
        },
        "id": "_NrzDYIdMzuM",
        "outputId": "a84bc860-cf4c-4139-e25f-1d9f58e88c7b"
      },
      "execution_count": null,
      "outputs": [
        {
          "output_type": "stream",
          "name": "stdout",
          "text": [
            "y= 3.0\n"
          ]
        }
      ]
    },
    {
      "cell_type": "code",
      "source": [
        "import math"
      ],
      "metadata": {
        "id": "ofySfspIM9k8"
      },
      "execution_count": null,
      "outputs": []
    },
    {
      "cell_type": "code",
      "source": [
        "x=8\n",
        "y=math.log2(x)\n",
        "print(\"y=\",y)"
      ],
      "metadata": {
        "colab": {
          "base_uri": "https://localhost:8080/"
        },
        "id": "pjCXp6hcNC6r",
        "outputId": "fc7bff44-5830-4f46-d664-a8d93d16d54a"
      },
      "execution_count": null,
      "outputs": [
        {
          "output_type": "stream",
          "name": "stdout",
          "text": [
            "y= 3.0\n"
          ]
        }
      ]
    },
    {
      "cell_type": "code",
      "source": [
        "import matplotlib.pyplot as plt\n",
        "\n"
      ],
      "metadata": {
        "id": "XaUuqDsyNaux"
      },
      "execution_count": null,
      "outputs": []
    },
    {
      "cell_type": "code",
      "source": [
        "import numpy as np"
      ],
      "metadata": {
        "id": "L98YLJ9ONqTq"
      },
      "execution_count": null,
      "outputs": []
    },
    {
      "cell_type": "code",
      "source": [
        "x=np.linspace(0,pi,92)"
      ],
      "metadata": {
        "id": "wvTpTkYvNwVC"
      },
      "execution_count": null,
      "outputs": []
    },
    {
      "cell_type": "code",
      "source": [
        "print(x)"
      ],
      "metadata": {
        "colab": {
          "base_uri": "https://localhost:8080/"
        },
        "id": "D891aIH9N5SC",
        "outputId": "e59b367a-233e-4384-a6cc-3576dea58825"
      },
      "execution_count": null,
      "outputs": [
        {
          "output_type": "stream",
          "name": "stdout",
          "text": [
            "[0.         0.01010101 0.02020202 0.03030303 0.04040404 0.05050505\n",
            " 0.06060606 0.07070707 0.08080808 0.09090909 0.1010101  0.11111111\n",
            " 0.12121212 0.13131313 0.14141414 0.15151515 0.16161616 0.17171717\n",
            " 0.18181818 0.19191919 0.2020202  0.21212121 0.22222222 0.23232323\n",
            " 0.24242424 0.25252525 0.26262626 0.27272727 0.28282828 0.29292929\n",
            " 0.3030303  0.31313131 0.32323232 0.33333333 0.34343434 0.35353535\n",
            " 0.36363636 0.37373737 0.38383838 0.39393939 0.4040404  0.41414141\n",
            " 0.42424242 0.43434343 0.44444444 0.45454545 0.46464646 0.47474747\n",
            " 0.48484848 0.49494949 0.50505051 0.51515152 0.52525253 0.53535354\n",
            " 0.54545455 0.55555556 0.56565657 0.57575758 0.58585859 0.5959596\n",
            " 0.60606061 0.61616162 0.62626263 0.63636364 0.64646465 0.65656566\n",
            " 0.66666667 0.67676768 0.68686869 0.6969697  0.70707071 0.71717172\n",
            " 0.72727273 0.73737374 0.74747475 0.75757576 0.76767677 0.77777778\n",
            " 0.78787879 0.7979798  0.80808081 0.81818182 0.82828283 0.83838384\n",
            " 0.84848485 0.85858586 0.86868687 0.87878788 0.88888889 0.8989899\n",
            " 0.90909091 0.91919192 0.92929293 0.93939394 0.94949495 0.95959596\n",
            " 0.96969697 0.97979798 0.98989899 1.        ]\n"
          ]
        }
      ]
    },
    {
      "cell_type": "code",
      "source": [
        "y=np.sin(x)\n",
        "print(y)"
      ],
      "metadata": {
        "colab": {
          "base_uri": "https://localhost:8080/"
        },
        "id": "bu4zCLwtOG0N",
        "outputId": "605ea551-5e5f-4366-cae9-bd122f4f3f2c"
      },
      "execution_count": null,
      "outputs": [
        {
          "output_type": "stream",
          "name": "stdout",
          "text": [
            "[0.00000000e+00 3.45161390e-02 6.89911444e-02 1.03383932e-01\n",
            " 1.37653515e-01 1.71759053e-01 2.05659903e-01 2.39315664e-01\n",
            " 2.72686228e-01 3.05731827e-01 3.38413080e-01 3.70691039e-01\n",
            " 4.02527239e-01 4.33883739e-01 4.64723172e-01 4.95008786e-01\n",
            " 5.24704488e-01 5.53774890e-01 5.82185348e-01 6.09902004e-01\n",
            " 6.36891829e-01 6.63122658e-01 6.88563231e-01 7.13183231e-01\n",
            " 7.36953316e-01 7.59845160e-01 7.81831482e-01 8.02886081e-01\n",
            " 8.22983866e-01 8.42100885e-01 8.60214356e-01 8.77302694e-01\n",
            " 8.93345534e-01 9.08323757e-01 9.22219513e-01 9.35016243e-01\n",
            " 9.46698696e-01 9.57252951e-01 9.66666429e-01 9.74927912e-01\n",
            " 9.82027556e-01 9.87956898e-01 9.92708874e-01 9.96277820e-01\n",
            " 9.98659483e-01 9.99851024e-01 9.99851024e-01 9.98659483e-01\n",
            " 9.96277820e-01 9.92708874e-01 9.87956898e-01 9.82027556e-01\n",
            " 9.74927912e-01 9.66666429e-01 9.57252951e-01 9.46698696e-01\n",
            " 9.35016243e-01 9.22219513e-01 9.08323757e-01 8.93345534e-01\n",
            " 8.77302694e-01 8.60214356e-01 8.42100885e-01 8.22983866e-01\n",
            " 8.02886081e-01 7.81831482e-01 7.59845160e-01 7.36953316e-01\n",
            " 7.13183231e-01 6.88563231e-01 6.63122658e-01 6.36891829e-01\n",
            " 6.09902004e-01 5.82185348e-01 5.53774890e-01 5.24704488e-01\n",
            " 4.95008786e-01 4.64723172e-01 4.33883739e-01 4.02527239e-01\n",
            " 3.70691039e-01 3.38413080e-01 3.05731827e-01 2.72686228e-01\n",
            " 2.39315664e-01 2.05659903e-01 1.71759053e-01 1.37653515e-01\n",
            " 1.03383932e-01 6.89911444e-02 3.45161390e-02 1.22464680e-16]\n"
          ]
        }
      ]
    },
    {
      "cell_type": "code",
      "source": [
        "plt.plot(x,y)\n",
        "plt.xlabel('x')\n",
        "plt.ylabel('y')"
      ],
      "metadata": {
        "colab": {
          "base_uri": "https://localhost:8080/",
          "height": 466
        },
        "id": "FHazUlwdOPCn",
        "outputId": "f5ec40c9-4e47-4f19-f1e3-0390c389ee83"
      },
      "execution_count": null,
      "outputs": [
        {
          "output_type": "execute_result",
          "data": {
            "text/plain": [
              "Text(0, 0.5, 'y')"
            ]
          },
          "metadata": {},
          "execution_count": 54
        },
        {
          "output_type": "display_data",
          "data": {
            "text/plain": [
              "<Figure size 640x480 with 1 Axes>"
            ],
            "image/png": "[encoded data removed]"
          },
          "metadata": {}
        }
      ]
    },
    {
      "cell_type": "code",
      "source": [
        "\n",
        "import math\n",
        "sqrt=math.sqrt\n",
        "exp=math.exp\n",
        "pi=math.pi\n",
        "cos=math.cos\n",
        "sinh=math.sinh\n",
        "ln=math.log\n",
        "cosh=math.cosh\n",
        "x=pi/4\n",
        "z=cos(x)\n",
        "o=sqrt((x*x)+ exp(x))\n",
        "a=(sqrt(exp+1))/(1+cosh(x)*cosh(x)0\n",
        "b=ln(sqrt(x)+exp(x))\n",
        "\n",
        "y=z+o+z+a+b\n",
        "print(\"y\",y)"
      ],
      "metadata": {
        "colab": {
          "base_uri": "https://localhost:8080/",
          "height": 245
        },
        "id": "i8RM39hfSDei",
        "outputId": "522f1152-ccfd-4a37-ae85-11cbcf0e5c75"
      },
      "execution_count": null,
      "outputs": [
        {
          "output_type": "error",
          "ename": "TypeError",
          "evalue": "ignored",
          "traceback": [
            "\u001b[0;31m---------------------------------------------------------------------------\u001b[0m",
            "\u001b[0;31mTypeError\u001b[0m                                 Traceback (most recent call last)",
            "\u001b[0;32m<ipython-input-78-58011bba51d4>\u001b[0m in \u001b[0;36m<cell line: 12>\u001b[0;34m()\u001b[0m\n\u001b[1;32m     10\u001b[0m \u001b[0mz\u001b[0m\u001b[0;34m=\u001b[0m\u001b[0mcos\u001b[0m\u001b[0;34m(\u001b[0m\u001b[0mx\u001b[0m\u001b[0;34m)\u001b[0m\u001b[0;34m\u001b[0m\u001b[0;34m\u001b[0m\u001b[0m\n\u001b[1;32m     11\u001b[0m \u001b[0mo\u001b[0m\u001b[0;34m=\u001b[0m\u001b[0msqrt\u001b[0m\u001b[0;34m(\u001b[0m\u001b[0;34m(\u001b[0m\u001b[0mx\u001b[0m\u001b[0;34m*\u001b[0m\u001b[0mx\u001b[0m\u001b[0;34m)\u001b[0m\u001b[0;34m+\u001b[0m \u001b[0mexp\u001b[0m\u001b[0;34m(\u001b[0m\u001b[0mx\u001b[0m\u001b[0;34m)\u001b[0m\u001b[0;34m)\u001b[0m\u001b[0;34m\u001b[0m\u001b[0;34m\u001b[0m\u001b[0m\n\u001b[0;32m---> 12\u001b[0;31m \u001b[0ma\u001b[0m\u001b[0;34m=\u001b[0m\u001b[0;34m(\u001b[0m\u001b[0msqrt\u001b[0m\u001b[0;34m(\u001b[0m\u001b[0mexp\u001b[0m\u001b[0;34m+\u001b[0m\u001b[0;36m1\u001b[0m\u001b[0;34m)\u001b[0m\u001b[0;34m)\u001b[0m\u001b[0;34m/\u001b[0m\u001b[0;34m(\u001b[0m\u001b[0;36m1\u001b[0m\u001b[0;34m+\u001b[0m\u001b[0mcosh\u001b[0m\u001b[0;34m(\u001b[0m\u001b[0mx\u001b[0m\u001b[0;34m)\u001b[0m\u001b[0;34m*\u001b[0m\u001b[0mcosh\u001b[0m\u001b[0;34m(\u001b[0m\u001b[0mx\u001b[0m\u001b[0;34m)\u001b[0m\u001b[0;34m)\u001b[0m\u001b[0;34m\u001b[0m\u001b[0;34m\u001b[0m\u001b[0m\n\u001b[0m\u001b[1;32m     13\u001b[0m \u001b[0mb\u001b[0m\u001b[0;34m=\u001b[0m\u001b[0mln\u001b[0m\u001b[0;34m(\u001b[0m\u001b[0msqrt\u001b[0m\u001b[0;34m(\u001b[0m\u001b[0mx\u001b[0m\u001b[0;34m)\u001b[0m\u001b[0;34m+\u001b[0m\u001b[0mexp\u001b[0m\u001b[0;34m(\u001b[0m\u001b[0mx\u001b[0m\u001b[0;34m)\u001b[0m\u001b[0;34m)\u001b[0m\u001b[0;34m\u001b[0m\u001b[0;34m\u001b[0m\u001b[0m\n\u001b[1;32m     14\u001b[0m \u001b[0;34m\u001b[0m\u001b[0m\n",
            "\u001b[0;31mTypeError\u001b[0m: unsupported operand type(s) for +: 'builtin_function_or_method' and 'int'"
          ]
        }
      ]
    },
    {
      "cell_type": "code",
      "source": [],
      "metadata": {
        "id": "cN2y7M1VWxs9"
      },
      "execution_count": null,
      "outputs": []
    },
    {
      "cell_type": "code",
      "source": [],
      "metadata": {
        "id": "7FSx0RFsVTND"
      },
      "execution_count": null,
      "outputs": []
    }
  ]
}