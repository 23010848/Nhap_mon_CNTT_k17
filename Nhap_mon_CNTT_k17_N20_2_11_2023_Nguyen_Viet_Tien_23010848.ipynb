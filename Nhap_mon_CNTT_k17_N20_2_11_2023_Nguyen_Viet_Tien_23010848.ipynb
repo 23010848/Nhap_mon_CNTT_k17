{
  "nbformat": 4,
  "nbformat_minor": 0,
  "metadata": {
    "colab": {
      "provenance": []
    },
    "kernelspec": {
      "name": "python3",
      "display_name": "Python 3"
    },
    "language_info": {
      "name": "python"
    }
  },
  "cells": [
    {
      "cell_type": "markdown",
      "source": [
        "Câu lệnh nhập 3 số nguyên  a,b,c  trên một hàng"
      ],
      "metadata": {
        "id": "bH8qzkzjMmrw"
      }
    },
    {
      "cell_type": "code",
      "source": [],
      "metadata": {
        "id": "nRZpdc7m4w5M"
      },
      "execution_count": null,
      "outputs": []
    },
    {
      "cell_type": "code",
      "source": [
        "a,b,c=map(int,input().split())"
      ],
      "metadata": {
        "colab": {
          "base_uri": "https://localhost:8080/"
        },
        "id": "QkYUyBnEMp0Y",
        "outputId": "be6bb964-062a-43d2-da7d-b36fac46a269"
      },
      "execution_count": null,
      "outputs": [
        {
          "name": "stdout",
          "output_type": "stream",
          "text": [
            "4 5 6\n"
          ]
        }
      ]
    },
    {
      "cell_type": "code",
      "source": [
        "print(a)"
      ],
      "metadata": {
        "colab": {
          "base_uri": "https://localhost:8080/"
        },
        "id": "NSOQ5s8oMzxI",
        "outputId": "dd158324-70f6-45e8-9a0e-5d4ff3eab7fc"
      },
      "execution_count": null,
      "outputs": [
        {
          "output_type": "stream",
          "name": "stdout",
          "text": [
            "4\n"
          ]
        }
      ]
    },
    {
      "cell_type": "markdown",
      "source": [
        "Câu lệnh nhập 3 số thực  x,y,z  trên một hàng\n"
      ],
      "metadata": {
        "id": "NQniSj8ZM4FQ"
      }
    },
    {
      "cell_type": "code",
      "source": [
        "x,y,z=map(float,input().split())\n"
      ],
      "metadata": {
        "colab": {
          "base_uri": "https://localhost:8080/"
        },
        "id": "qja4K5lnM5Ln",
        "outputId": "40aaad91-b829-4134-e565-9edc253e6f73"
      },
      "execution_count": null,
      "outputs": [
        {
          "name": "stdout",
          "output_type": "stream",
          "text": [
            "1.5 4.6 5.6\n"
          ]
        }
      ]
    },
    {
      "cell_type": "code",
      "source": [],
      "metadata": {
        "id": "yvgG_0QrQi0E"
      },
      "execution_count": null,
      "outputs": []
    },
    {
      "cell_type": "code",
      "source": [
        "print(x)"
      ],
      "metadata": {
        "colab": {
          "base_uri": "https://localhost:8080/"
        },
        "id": "8WI9hCY7M-bX",
        "outputId": "a6def4b1-76df-4174-8e04-64a917eb3b30"
      },
      "execution_count": null,
      "outputs": [
        {
          "output_type": "stream",
          "name": "stdout",
          "text": [
            "1.5\n"
          ]
        }
      ]
    },
    {
      "cell_type": "markdown",
      "source": [
        "Câu lệnh vòng lặp\n"
      ],
      "metadata": {
        "id": "9mq6_XKVNE83"
      }
    },
    {
      "cell_type": "code",
      "source": [
        "print(0)\n",
        "print(1)\n",
        "print(2)\n",
        "print(3)\n",
        "print(4)\n",
        "print(5)\n",
        "print(6)\n",
        "print(7)\n",
        "print(8)\n",
        "print(9)"
      ],
      "metadata": {
        "colab": {
          "base_uri": "https://localhost:8080/"
        },
        "id": "yJQQI19_NG3f",
        "outputId": "ca60008e-dda6-4f7c-cf3c-65cb4830fa31"
      },
      "execution_count": null,
      "outputs": [
        {
          "output_type": "stream",
          "name": "stdout",
          "text": [
            "0\n",
            "1\n",
            "2\n",
            "3\n",
            "4\n",
            "5\n",
            "6\n",
            "7\n",
            "8\n",
            "9\n"
          ]
        }
      ]
    },
    {
      "cell_type": "code",
      "source": [],
      "metadata": {
        "id": "vxSn6VR5QkA7"
      },
      "execution_count": null,
      "outputs": []
    },
    {
      "cell_type": "markdown",
      "source": [
        "Thay thế công việc gỗ 10 câu lệnh print lặp lại thi ta có thể sử dụng câu lệnh vòng lặp"
      ],
      "metadata": {
        "id": "vdaO-9TqNPcn"
      }
    },
    {
      "cell_type": "markdown",
      "source": [],
      "metadata": {
        "id": "kpv3ofYoNksf"
      }
    },
    {
      "cell_type": "code",
      "source": [
        "for i in range(15):\n",
        "  print(i)"
      ],
      "metadata": {
        "colab": {
          "base_uri": "https://localhost:8080/"
        },
        "id": "FF3028Q_NQk_",
        "outputId": "2dde25ec-0c30-408f-af45-3ae3d97537c1"
      },
      "execution_count": null,
      "outputs": [
        {
          "output_type": "stream",
          "name": "stdout",
          "text": [
            "0\n",
            "1\n",
            "2\n",
            "3\n",
            "4\n",
            "5\n",
            "6\n",
            "7\n",
            "8\n",
            "9\n",
            "10\n",
            "11\n",
            "12\n",
            "13\n",
            "14\n"
          ]
        }
      ]
    },
    {
      "cell_type": "markdown",
      "source": [
        "Dạng 1\n"
      ],
      "metadata": {
        "id": "Pl9fC14_NmyX"
      }
    },
    {
      "cell_type": "code",
      "source": [
        "n=7\n",
        "for i in range(n):\n",
        "  print(i)"
      ],
      "metadata": {
        "colab": {
          "base_uri": "https://localhost:8080/"
        },
        "id": "3UksFaGyNn_X",
        "outputId": "b42cbea5-8481-4e64-a390-5f028484b711"
      },
      "execution_count": null,
      "outputs": [
        {
          "output_type": "stream",
          "name": "stdout",
          "text": [
            "0\n",
            "1\n",
            "2\n",
            "3\n",
            "4\n",
            "5\n",
            "6\n"
          ]
        }
      ]
    },
    {
      "cell_type": "markdown",
      "source": [
        "Dạng 2"
      ],
      "metadata": {
        "id": "ixKdh-djNbg4"
      }
    },
    {
      "cell_type": "code",
      "source": [
        "n1=6\n",
        "n2=10\n",
        "for i in range(n1,n2):\n",
        "  print(i)"
      ],
      "metadata": {
        "colab": {
          "base_uri": "https://localhost:8080/"
        },
        "id": "0Hqxc7HbNVLX",
        "outputId": "7ce70251-c3e9-4bad-b362-bebe62ce735b"
      },
      "execution_count": null,
      "outputs": [
        {
          "output_type": "stream",
          "name": "stdout",
          "text": [
            "6\n",
            "7\n",
            "8\n",
            "9\n"
          ]
        }
      ]
    },
    {
      "cell_type": "markdown",
      "source": [
        "Dạng 3\n"
      ],
      "metadata": {
        "id": "B3xpjXsrNzeH"
      }
    },
    {
      "cell_type": "code",
      "source": [
        "for i in range(2, 18,2):\n",
        "  print(i)"
      ],
      "metadata": {
        "colab": {
          "base_uri": "https://localhost:8080/"
        },
        "id": "xctXfB9lN56n",
        "outputId": "81f4b60a-5a8b-4451-b16b-34a3dbedff64"
      },
      "execution_count": null,
      "outputs": [
        {
          "output_type": "stream",
          "name": "stdout",
          "text": [
            "2\n",
            "4\n",
            "6\n",
            "8\n",
            "10\n",
            "12\n",
            "14\n",
            "16\n"
          ]
        }
      ]
    },
    {
      "cell_type": "code",
      "source": [
        "for i in range(42, 18,-2):\n",
        "  print(i)\n"
      ],
      "metadata": {
        "colab": {
          "base_uri": "https://localhost:8080/"
        },
        "id": "xm4oX9jnPpC-",
        "outputId": "f8c30ac8-f47d-410d-ecf5-49476077d0d0"
      },
      "execution_count": null,
      "outputs": [
        {
          "output_type": "stream",
          "name": "stdout",
          "text": [
            "42\n",
            "40\n",
            "38\n",
            "36\n",
            "34\n",
            "32\n",
            "30\n",
            "28\n",
            "26\n",
            "24\n",
            "22\n",
            "20\n"
          ]
        }
      ]
    },
    {
      "cell_type": "code",
      "source": [
        "Sn=0\n",
        "n=20\n",
        "for i in range(1,n+1):\n",
        "  Sn=Sn+i\n",
        "print(\"Sn=\",Sn)\n"
      ],
      "metadata": {
        "colab": {
          "base_uri": "https://localhost:8080/"
        },
        "id": "Sk05qnilP7YH",
        "outputId": "79edbef2-6d2d-4c2c-9b5c-938b0eeee55d"
      },
      "execution_count": null,
      "outputs": [
        {
          "output_type": "stream",
          "name": "stdout",
          "text": [
            "Sn= 210\n"
          ]
        }
      ]
    },
    {
      "cell_type": "markdown",
      "source": [
        "Bài M"
      ],
      "metadata": {
        "id": "EQAygjmuUzgW"
      }
    },
    {
      "cell_type": "code",
      "source": [
        "int(input())\n",
        "a = list(map(int, input().split()))\n",
        "for i in range(len(a)):\n",
        "  print(a[i],end=' ')\n"
      ],
      "metadata": {
        "colab": {
          "base_uri": "https://localhost:8080/"
        },
        "id": "GWDOOombTbZ2",
        "outputId": "18ae6050-94b7-449f-9c69-3876a11a6264"
      },
      "execution_count": null,
      "outputs": [
        {
          "output_type": "stream",
          "name": "stdout",
          "text": [
            "5\n",
            "45753\n",
            "45753"
          ]
        }
      ]
    },
    {
      "cell_type": "code",
      "source": [
        "int(input())\n",
        "a = list(map(int, input().split()))\n",
        "for i in range(len(a)):\n",
        "  print(a[i],end=' ')"
      ],
      "metadata": {
        "id": "wdqAOHqNseeb"
      },
      "execution_count": null,
      "outputs": []
    },
    {
      "cell_type": "markdown",
      "source": [
        "Bài N"
      ],
      "metadata": {
        "id": "lCA54Q7KU1qe"
      }
    },
    {
      "cell_type": "code",
      "source": [
        "tong=0\n",
        "n=int(input())\n",
        "for i in range(1, n+1):\n",
        "    tong =tong+i\n",
        "print(\"tong=\",tong)"
      ],
      "metadata": {
        "colab": {
          "base_uri": "https://localhost:8080/"
        },
        "id": "rM_-gdBXUEXP",
        "outputId": "83ad2d8c-c786-4626-8185-09470890f306"
      },
      "execution_count": null,
      "outputs": [
        {
          "output_type": "stream",
          "name": "stdout",
          "text": [
            "5\n",
            "tong= 15\n"
          ]
        }
      ]
    },
    {
      "cell_type": "markdown",
      "source": [
        "Bài"
      ],
      "metadata": {
        "id": "3mxkaPvaXJ-F"
      }
    },
    {
      "cell_type": "code",
      "source": [
        "import numpy as np\n",
        "arr=np.array(n)\n",
        "n= list(map(int, input().split()))\n",
        "avg=np.mean(arr)\n",
        "print(arr)"
      ],
      "metadata": {
        "id": "Ebs6fhdgXI7V",
        "colab": {
          "base_uri": "https://localhost:8080/"
        },
        "outputId": "6a3c29b8-64ae-44b8-c225-40dc7f46ce1d"
      },
      "execution_count": null,
      "outputs": [
        {
          "output_type": "stream",
          "name": "stdout",
          "text": [
            "1 3 \n",
            "[1]\n"
          ]
        }
      ]
    },
    {
      "cell_type": "code",
      "source": [
        "import numpy as np\n",
        "n=list(map(int,input().split()))\n",
        "tong = 0\n",
        "for i in range(0,n-1):\n",
        "  tong= tong +i\n",
        "\n",
        "print(tong)"
      ],
      "metadata": {
        "id": "qgnU_GBKTIwR"
      },
      "execution_count": null,
      "outputs": []
    },
    {
      "cell_type": "code",
      "source": [
        "\n",
        "\n",
        " n =list(map(float,input().split()))\n",
        " m=len(n)\n",
        " tong=sum(n)\n",
        " tb=tong/m\n",
        " print('%.3f'%tb)"
      ],
      "metadata": {
        "id": "AA1sR05LT_na",
        "outputId": "a53551a6-ef76-4f35-a339-57a17b28b33e",
        "colab": {
          "base_uri": "https://localhost:8080/"
        }
      },
      "execution_count": null,
      "outputs": [
        {
          "output_type": "stream",
          "name": "stdout",
          "text": [
            "1 2 3 4 5\n",
            "3.000\n"
          ]
        }
      ]
    },
    {
      "cell_type": "code",
      "source": [
        "\n",
        "n = int(input())\n",
        "numbers = list(map(int, input().split()))\n",
        "sum = 0\n",
        "count = 0\n",
        "for ai in numbers:\n",
        "    if ai >= 0:\n",
        "        sum += ai\n",
        "        count += 1\n",
        "    average = sum / count\n",
        "print(f\"{average:.3f}\")"
      ],
      "metadata": {
        "colab": {
          "base_uri": "https://localhost:8080/"
        },
        "id": "kMO48cmD0wET",
        "outputId": "c217f515-c809-40e1-ea2c-61aa1f74bf38"
      },
      "execution_count": null,
      "outputs": [
        {
          "output_type": "stream",
          "name": "stdout",
          "text": [
            "5 \n",
            "1 2 3 4 5\n",
            "3.000\n"
          ]
        }
      ]
    },
    {
      "cell_type": "code",
      "source": [
        "total_sum = sum(numbers)\n"
      ],
      "metadata": {
        "id": "PYXrweVG2JjX"
      },
      "execution_count": null,
      "outputs": []
    },
    {
      "cell_type": "code",
      "source": [
        "n = int(input())\n",
        "x = list(map(int, input().split()))\n",
        "y = list(map(int, input().split()))\n",
        "dot_product = sum(x[i] * y[i]\n",
        "for i in range(n))\n",
        "print(dot_product)\n"
      ],
      "metadata": {
        "colab": {
          "base_uri": "https://localhost:8080/"
        },
        "id": "CzbK9dZ6gbq0",
        "outputId": "29ef32d8-f74c-4816-cada-e8ca0fb36082"
      },
      "execution_count": null,
      "outputs": [
        {
          "output_type": "stream",
          "name": "stdout",
          "text": [
            "5\n",
            "1 2 3 4 5\n",
            "1 5 6 4 7\n",
            "80\n"
          ]
        }
      ]
    },
    {
      "cell_type": "code",
      "source": [
        "n, x = map(int,input().split())\n",
        "i_list = list(map(int, input().split()))\n",
        "count = 0\n",
        "for i in i_list:\n",
        "    if i > x:\n",
        "        count += 1\n",
        "print(count)"
      ],
      "metadata": {
        "colab": {
          "base_uri": "https://localhost:8080/"
        },
        "id": "fE-s9UT1h6G0",
        "outputId": "08fcbf13-6ecf-4285-f61c-2c8ddb5b89a7"
      },
      "execution_count": null,
      "outputs": [
        {
          "output_type": "stream",
          "name": "stdout",
          "text": [
            "5 3\n",
            "1 2 3 4 5\n",
            "2\n"
          ]
        }
      ]
    },
    {
      "cell_type": "markdown",
      "source": [],
      "metadata": {
        "id": "Sg5g1wzT0Ya2"
      }
    },
    {
      "cell_type": "code",
      "source": [
        "n = int(input())\n",
        "arr = list(map(int, input().split()))\n",
        "count_dict = {}\n",
        "for num in arr:\n",
        "    if num in count_dict:\n",
        "        count_dict[num] += 1\n",
        "    else:\n",
        "        count_dict[num] = 1\n",
        "unique_elements = sorted(count_dict.keys())\n",
        "print(len(unique_elements))\n",
        "for num in unique_elements:\n",
        "    print(num, count_dict[num])"
      ],
      "metadata": {
        "id": "HDzXeNoYy4Y7",
        "colab": {
          "base_uri": "https://localhost:8080/"
        },
        "outputId": "30e2659e-960a-40b6-a140-a256df445c8c"
      },
      "execution_count": null,
      "outputs": [
        {
          "output_type": "stream",
          "name": "stdout",
          "text": [
            "4 \n",
            "1 2 4 5\n",
            "4\n",
            "1 1\n",
            "2 1\n",
            "4 1\n",
            "5 1\n"
          ]
        }
      ]
    },
    {
      "cell_type": "code",
      "source": [
        "n = int(input())\n",
        "arr = list(map(int, input().split()))\n",
        "count_dict = {}\n",
        "for num in arr:\n",
        "    if num in count_dict:\n",
        "        count_dict[num] += 1\n",
        "    else:\n",
        "        count_dict[num] = 1\n",
        "unique_elements = sorted(count_dict.keys())\n",
        "print(len(unique_elements))\n",
        "for num in unique_elements:\n",
        "    print(num, count_dict[num])"
      ],
      "metadata": {
        "id": "52YalQSZ0ozt"
      },
      "execution_count": null,
      "outputs": []
    },
    {
      "cell_type": "code",
      "source": [
        "xA , yA = map(int, input().split())\n",
        "xB , yB = map(int, input().split())\n",
        "xC , yC = map(int, input().split())\n",
        "import math\n",
        "dAB = math.sqrt((xB - xA)**2 + (yB - yA)**2)\n",
        "dAC = math.sqrt((xC - xA)**2 + (yC - yA)**2)\n",
        "dBC = math.sqrt((xC - xB)**2 + (yC - yB)**2)\n",
        "if dAB + dAC == dBC or dAB + dBC == dAC or dBC + dAC == dAB:\n",
        "  print(\"YES\")\n",
        "else:\n",
        "  print(\"NO\")"
      ],
      "metadata": {
        "id": "wC4TJ-IA08mr"
      },
      "execution_count": null,
      "outputs": []
    },
    {
      "cell_type": "code",
      "source": [],
      "metadata": {
        "id": "of_3g2qU2Cq7"
      },
      "execution_count": null,
      "outputs": []
    }
  ]
}